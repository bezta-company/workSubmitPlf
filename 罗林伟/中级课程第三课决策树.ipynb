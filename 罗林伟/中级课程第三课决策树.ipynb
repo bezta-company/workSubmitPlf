{
 "cells": [
  {
   "cell_type": "code",
   "execution_count": 1,
   "metadata": {},
   "outputs": [],
   "source": [
    "import numpy as np\n",
    "from sklearn.datasets import load_iris\n",
    "\n",
    "# 载入iris数据集\n",
    "data = load_iris()\n",
    "x = data['data']\n",
    "y = data['target']"
   ]
  },
  {
   "cell_type": "markdown",
   "metadata": {},
   "source": [
    "# 数据准备"
   ]
  },
  {
   "cell_type": "code",
   "execution_count": 16,
   "metadata": {},
   "outputs": [],
   "source": [
    "# 训练集划分\n",
    "train_x1 = x[0:40]\n",
    "train_y1 = y[0:40]\n",
    "train_x2 = x[50:90]\n",
    "train_y2 = y[50:90]\n",
    "train_x3 = x[100:140]\n",
    "train_y3 = y[100:140]\n",
    "train_x = np.r_[train_x1, train_x2, train_x3]\n",
    "train_y = np.r_[train_y1, train_y2, train_y3]\n",
    "\n",
    "# 验证集划分\n",
    "val_x1 = x[40:50]\n",
    "val_y1 = y[40:50]\n",
    "val_x2 = x[90:100]\n",
    "val_y2 = y[90:100]\n",
    "val_x3 = x[140:150]\n",
    "val_y3 = y[140:150]\n",
    "val_x = np.r_[val_x1, val_x2, val_x3]\n",
    "val_y = np.r_[val_y1, val_y2, val_y3]"
   ]
  },
  {
   "cell_type": "markdown",
   "metadata": {},
   "source": [
    "# 选择一个模型"
   ]
  },
  {
   "cell_type": "code",
   "execution_count": 27,
   "metadata": {},
   "outputs": [],
   "source": [
    "from sklearn.neighbors import KNeighborsClassifier\n",
    "knn = KNeighborsClassifier(2)"
   ]
  },
  {
   "cell_type": "markdown",
   "metadata": {},
   "source": [
    "# 训练"
   ]
  },
  {
   "cell_type": "code",
   "execution_count": 28,
   "metadata": {},
   "outputs": [
    {
     "data": {
      "text/plain": [
       "KNeighborsClassifier(algorithm='auto', leaf_size=30, metric='minkowski',\n",
       "           metric_params=None, n_jobs=None, n_neighbors=2, p=2,\n",
       "           weights='uniform')"
      ]
     },
     "execution_count": 28,
     "metadata": {},
     "output_type": "execute_result"
    }
   ],
   "source": [
    "knn.fit(train_x,train_y)"
   ]
  },
  {
   "cell_type": "markdown",
   "metadata": {},
   "source": [
    "# 评估"
   ]
  },
  {
   "cell_type": "code",
   "execution_count": 29,
   "metadata": {},
   "outputs": [
    {
     "name": "stdout",
     "output_type": "stream",
     "text": [
      "1.0\n",
      "0.975\n"
     ]
    }
   ],
   "source": [
    "acc = knn.score(val_x, val_y)\n",
    "print(acc)\n",
    "acc = knn.score(train_x,train_y)\n",
    "print(acc)"
   ]
  },
  {
   "cell_type": "code",
   "execution_count": null,
   "metadata": {},
   "outputs": [],
   "source": []
  }
 ],
 "metadata": {
  "kernelspec": {
   "display_name": "Python 3",
   "language": "python",
   "name": "python3"
  },
  "language_info": {
   "codemirror_mode": {
    "name": "ipython",
    "version": 3
   },
   "file_extension": ".py",
   "mimetype": "text/x-python",
   "name": "python",
   "nbconvert_exporter": "python",
   "pygments_lexer": "ipython3",
   "version": "3.7.3"
  }
 },
 "nbformat": 4,
 "nbformat_minor": 2
}
