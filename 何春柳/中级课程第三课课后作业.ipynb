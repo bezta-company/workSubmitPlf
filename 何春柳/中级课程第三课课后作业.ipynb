{
 "cells": [
  {
   "cell_type": "code",
   "execution_count": 2,
   "metadata": {},
   "outputs": [],
   "source": [
    "import numpy as np\n",
    "from sklearn.datasets import load_iris"
   ]
  },
  {
   "cell_type": "markdown",
   "metadata": {},
   "source": [
    "# 步骤1：收集数据"
   ]
  },
  {
   "cell_type": "code",
   "execution_count": 3,
   "metadata": {},
   "outputs": [],
   "source": [
    "data = load_iris()\n",
    "X = data['data']\n",
    "y = data['target']"
   ]
  },
  {
   "cell_type": "markdown",
   "metadata": {},
   "source": [
    "# 步骤2：数据准备"
   ]
  },
  {
   "cell_type": "code",
   "execution_count": 4,
   "metadata": {},
   "outputs": [],
   "source": [
    "# 训练集划分\n",
    "train_X1 = X[0:40]\n",
    "train_y1 = y[0:40]\n",
    "train_X2 = X[50:90]\n",
    "train_y2 = y[50:90]\n",
    "train_X3 = X[100:140]\n",
    "train_y3 = y[100:140]\n",
    "train_X = np.r_[train_X1, train_X2, train_X3]\n",
    "train_y = np.r_[train_y1, train_y2, train_y3]\n",
    "\n",
    "# 验证计划分\n",
    "val_X1 = X[40:50]\n",
    "val_y1 = y[40:50]\n",
    "val_X2 = X[90:100]\n",
    "val_y2 = y[90:100]\n",
    "val_X3 = X[140:150]\n",
    "val_y3 = y[140:150]\n",
    "val_X = np.r_[val_X1, val_X2, val_X3]\n",
    "val_y = np.r_[val_y1, val_y2, val_y3]"
   ]
  },
  {
   "cell_type": "code",
   "execution_count": 5,
   "metadata": {},
   "outputs": [],
   "source": [
    "# 数据预处理（归一化）\n",
    "from sklearn import preprocessing\n",
    "\n",
    "### 代码开始\n",
    "scaler = preprocessing.StandardScaler().fit(train_X)\n",
    "train_X = scaler.transform(train_X) # 将训练数据归一化\n",
    "val_X = scaler.transform(val_X) # 将验证数据归一化\n",
    "### 代码结束"
   ]
  },
  {
   "cell_type": "markdown",
   "metadata": {},
   "source": [
    "# 步骤3：选择一个模型"
   ]
  },
  {
   "cell_type": "code",
   "execution_count": 6,
   "metadata": {},
   "outputs": [],
   "source": [
    "from sklearn.neighbors import KNeighborsClassifier\n",
    "knn = KNeighborsClassifier(10)"
   ]
  },
  {
   "cell_type": "markdown",
   "metadata": {},
   "source": [
    "# 步骤4：训练"
   ]
  },
  {
   "cell_type": "code",
   "execution_count": 7,
   "metadata": {},
   "outputs": [
    {
     "data": {
      "text/plain": [
       "KNeighborsClassifier(algorithm='auto', leaf_size=30, metric='minkowski',\n",
       "                     metric_params=None, n_jobs=None, n_neighbors=10, p=2,\n",
       "                     weights='uniform')"
      ]
     },
     "execution_count": 7,
     "metadata": {},
     "output_type": "execute_result"
    }
   ],
   "source": [
    "knn.fit(train_X, train_y)"
   ]
  },
  {
   "cell_type": "markdown",
   "metadata": {},
   "source": [
    "# 步骤5：评估"
   ]
  },
  {
   "cell_type": "code",
   "execution_count": 8,
   "metadata": {},
   "outputs": [
    {
     "name": "stdout",
     "output_type": "stream",
     "text": [
      "验证集准确率：0.9666666666666667\n",
      "训练集准确率：0.9583333333333334\n"
     ]
    }
   ],
   "source": [
    "acc = knn.score(val_X, val_y)\n",
    "print('验证集准确率：'+str(acc))\n",
    "acc = knn.score(train_X, train_y)\n",
    "print('训练集准确率：'+str(acc))"
   ]
  },
  {
   "cell_type": "code",
   "execution_count": null,
   "metadata": {},
   "outputs": [],
   "source": []
  },
  {
   "cell_type": "code",
   "execution_count": null,
   "metadata": {},
   "outputs": [],
   "source": []
  }
 ],
 "metadata": {
  "kernelspec": {
   "display_name": "Python 3",
   "language": "python",
   "name": "python3"
  },
  "language_info": {
   "codemirror_mode": {
    "name": "ipython",
    "version": 3
   },
   "file_extension": ".py",
   "mimetype": "text/x-python",
   "name": "python",
   "nbconvert_exporter": "python",
   "pygments_lexer": "ipython3",
   "version": "3.7.3"
  }
 },
 "nbformat": 4,
 "nbformat_minor": 2
}
