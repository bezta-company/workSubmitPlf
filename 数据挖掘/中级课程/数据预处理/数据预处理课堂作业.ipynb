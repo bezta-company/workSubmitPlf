{
 "cells": [
  {
   "cell_type": "code",
   "execution_count": null,
   "metadata": {},
   "outputs": [],
   "source": [
    "# 导入所需工具包\n",
    "import numpy as np\n",
    "# 载入工具包\n",
    "from sklearn.datasets import load_boston"
   ]
  },
  {
   "cell_type": "markdown",
   "metadata": {},
   "source": [
    "# 训练数据预处理"
   ]
  },
  {
   "cell_type": "code",
   "execution_count": null,
   "metadata": {},
   "outputs": [],
   "source": [
    "# 载入原始数据\n",
    "dataset = load_boston()\n",
    "x_data = dataset.data # 导入所有特征变量\n",
    "y_data = dataset.target # 导入目标值（房价）\n",
    "name_data = dataset.feature_names #导入特征名\n",
    "\n",
    "### 代码开始\n",
    "# 填写存在None行的代码\n",
    "n,d = None # 样本个数，特征个数\n",
    "print('样本个数:' + str(n) + ' 特征个数' + str(d))\n",
    "train_data = None # 抽取样本和特征，选择第0-9个样本,第1,5,10个特征\n",
    "print('\\n抽取后的样本:')\n",
    "print(train_data)\n",
    "### 代码结束\n",
    "\n",
    "# 生成缺失数据\n",
    "train_data_missing = train_data\n",
    "train_data_missing[[0,2,5,7,9],[1,2,0,0,2]] = np.nan\n",
    "print('\\n人为制造缺失数据后的样本:')\n",
    "print(train_data_missing)"
   ]
  },
  {
   "cell_type": "code",
   "execution_count": null,
   "metadata": {},
   "outputs": [],
   "source": [
    "# 使用均值补全丢失数据\n",
    "from sklearn.preprocessing import Imputer\n",
    "\n",
    "### 代码开始\n",
    "# 填写存在None行的代码\n",
    "imp = None\n",
    "imp.fit(None)\n",
    "train_data_impute = None\n",
    "### 代码结束\n",
    "\n",
    "print('补全前的数据：')\n",
    "print(train_data_missing)\n",
    "print('\\n补全后的数据：')\n",
    "print(train_data_impute)"
   ]
  },
  {
   "cell_type": "code",
   "execution_count": null,
   "metadata": {},
   "outputs": [],
   "source": [
    "# 对补全后的数据进行均值中心化，方差规模化\n",
    "from sklearn import preprocessing\n",
    "\n",
    "### 代码开始\n",
    "# 填写存在None行的代码\n",
    "scaler = None\n",
    "train_data_scaler = scaler.transform(None)\n",
    "### 代码结束\n",
    "\n",
    "print('中心化规模化前的数据：')\n",
    "print(train_data_impute)\n",
    "print('\\n中心化规模化前的数据均值：')\n",
    "print(np.mean(train_data_impute, axis=0))\n",
    "print('\\n中心化规模化前的数据方差：')\n",
    "print(np.std(train_data_impute, axis=0))\n",
    "\n",
    "print('\\n中心化规模化后的数据：')\n",
    "print(train_data_scaler)\n",
    "print('\\n中心化规模化后的数据均值：')\n",
    "print(np.mean(train_data_scaler, axis=0))\n",
    "print('\\n中心化规模化后的数据方差：')\n",
    "print(np.std(train_data_scaler, axis=0))"
   ]
  },
  {
   "cell_type": "code",
   "execution_count": null,
   "metadata": {},
   "outputs": [],
   "source": [
    "# 对补全后的数据特征进行缩放[0,1]\n",
    "\n",
    "### 代码开始\n",
    "# 填写存在None行的代码\n",
    "min_max_scaler = None\n",
    "train_data_minmax = None\n",
    "### 代码结束\n",
    "\n",
    "print('[0,1]缩放前的数据：')\n",
    "print(train_data_impute)\n",
    "\n",
    "print('\\n[0,1]缩放后的数据：')\n",
    "print(train_data_minmax)"
   ]
  },
  {
   "cell_type": "code",
   "execution_count": null,
   "metadata": {},
   "outputs": [],
   "source": [
    "# 对补全后的训练数据进行特征缩放[-1,+1]\n",
    "\n",
    "### 代码开始\n",
    "# 填写存在None行的代码\n",
    "max_abs_scaler = None\n",
    "train_data_maxabs = None\n",
    "### 代码结束\n",
    "\n",
    "print('[-1,+1]缩放前的数据：')\n",
    "print(train_data_impute)\n",
    "\n",
    "print('\\n[-1,+1]缩放后的数据：')\n",
    "print(train_data_maxabs)"
   ]
  },
  {
   "cell_type": "code",
   "execution_count": null,
   "metadata": {},
   "outputs": [],
   "source": [
    "# 对补全后的训练数据进行二值化(大于6为1，小于6为0)\n",
    "\n",
    "### 代码开始\n",
    "# 填写存在None行的代码\n",
    "binarizer = None\n",
    "train_data_binarizer = binarizer.transform(None)\n",
    "### 代码结束\n",
    "\n",
    "print('二值化前的数据：')\n",
    "print(train_data_impute)\n",
    "\n",
    "print('二值化]后的数据：')\n",
    "print(train_data_binarizer)"
   ]
  },
  {
   "cell_type": "markdown",
   "metadata": {},
   "source": [
    "# 测试数据预处理"
   ]
  },
  {
   "cell_type": "code",
   "execution_count": null,
   "metadata": {},
   "outputs": [],
   "source": [
    "# 抽取测试数据\n",
    "\n",
    "### 代码开始\n",
    "# 填写存在None行的代码\n",
    "test_data = None # 抽取样本和特征，选择第10-15个样本,第1,5,10个特征\n",
    "test_data_missing = test_data.copy()\n",
    "test_data_missing[[0,2,3],[1,2,0]] = np.nan\n",
    "### 代码结束\n",
    "\n",
    "print('抽取的测试样本：')\n",
    "print(test_data)\n",
    "print('\\n人为制造缺失数据后的测试样本')\n",
    "print(test_data_missing)"
   ]
  },
  {
   "cell_type": "code",
   "execution_count": null,
   "metadata": {},
   "outputs": [],
   "source": [
    "# 使用训练数据的均值对缺失值进行补全\n",
    "\n",
    "### 代码开始\n",
    "# 填写存在None行的代码\n",
    "test_data_impute = imp.transform(None)\n",
    "### 代码结束\n",
    "\n",
    "print('补全前的数据：')\n",
    "print(test_data_missing)\n",
    "print('\\n补全后的数据：')\n",
    "print(test_data_impute)"
   ]
  },
  {
   "cell_type": "code",
   "execution_count": null,
   "metadata": {},
   "outputs": [],
   "source": [
    "# 根据训练数据对测试数据中心化，方差规模化\n",
    "\n",
    "### 代码开始\n",
    "# 填写存在None行的代码\n",
    "test_data_scaler = None\n",
    "### 代码结束\n",
    "\n",
    "print('中心化规模化前的数据：')\n",
    "print(test_data_impute)\n",
    "print('\\n中心化规模化前的数据均值：')\n",
    "print(np.mean(test_data_impute, axis=0))\n",
    "print('\\n中心化规模化前的数据方差：')\n",
    "print(np.std(test_data_impute, axis=0))\n",
    "\n",
    "print('\\n中心化规模化后的数据：')\n",
    "print(test_data_scaler)\n",
    "print('\\n中心化规模化后的数据均值：')\n",
    "print(np.mean(test_data_scaler, axis=0))\n",
    "print('\\n中心化规模化后的数据方差：')\n",
    "print(np.std(test_data_scaler, axis=0))"
   ]
  },
  {
   "cell_type": "code",
   "execution_count": null,
   "metadata": {},
   "outputs": [],
   "source": [
    "# 根据训练数据对补全后的测试数据缩放[0,1]\n",
    "\n",
    "### 代码开始\n",
    "# 填写存在None行的代码\n",
    "test_data_minmax = None\n",
    "### 代码结束\n",
    "\n",
    "print('[0,1]缩放前的数据：')\n",
    "print(test_data_impute)\n",
    "\n",
    "print('\\n[0,1]缩放后的数据：')\n",
    "print(test_data_minmax)"
   ]
  },
  {
   "cell_type": "code",
   "execution_count": null,
   "metadata": {},
   "outputs": [],
   "source": [
    "# 根据训练数据对测试数据缩放[-1,1]\n",
    "\n",
    "### 代码开始\n",
    "# 填写存在None行的代码\n",
    "test_data_maxabs = None\n",
    "### 代码结束\n",
    "\n",
    "print('[-1,+1]缩放前的数据：')\n",
    "print(test_data_impute)\n",
    "\n",
    "print('\\n[-1,+1]缩放后的数据：')\n",
    "print(test_data_maxabs)"
   ]
  },
  {
   "cell_type": "code",
   "execution_count": null,
   "metadata": {},
   "outputs": [],
   "source": [
    "# 根据训练数据对补全后的测试数据二值化\n",
    "test_data_binarizer = None\n",
    "\n",
    "print('二值化前的数据：')\n",
    "print(test_data_impute)\n",
    "\n",
    "print('\\n二值化]后的数据：')\n",
    "print(test_data_binarizer)"
   ]
  },
  {
   "cell_type": "code",
   "execution_count": null,
   "metadata": {},
   "outputs": [],
   "source": []
  }
 ],
 "metadata": {
  "kernelspec": {
   "display_name": "Python 3",
   "language": "python",
   "name": "python3"
  },
  "language_info": {
   "codemirror_mode": {
    "name": "ipython",
    "version": 3
   },
   "file_extension": ".py",
   "mimetype": "text/x-python",
   "name": "python",
   "nbconvert_exporter": "python",
   "pygments_lexer": "ipython3",
   "version": "3.7.1"
  }
 },
 "nbformat": 4,
 "nbformat_minor": 2
}
