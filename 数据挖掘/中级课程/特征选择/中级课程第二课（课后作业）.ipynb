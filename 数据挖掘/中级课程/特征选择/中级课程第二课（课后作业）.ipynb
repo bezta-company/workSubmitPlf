{
 "cells": [
  {
   "cell_type": "code",
   "execution_count": null,
   "metadata": {},
   "outputs": [],
   "source": [
    "import numpy as np\n",
    "from sklearn.datasets import load_iris\n",
    "\n",
    "# 载入iris数据集\n",
    "data = load_iris()"
   ]
  },
  {
   "cell_type": "markdown",
   "metadata": {},
   "source": [
    "# 数据分布"
   ]
  },
  {
   "cell_type": "code",
   "execution_count": null,
   "metadata": {},
   "outputs": [],
   "source": [
    "X = data['data']\n",
    "y = data['target']\n",
    "\n",
    "### 代码开始\n",
    "n,d = None # 样本个数 特征个数\n",
    "means = None # 数据X的各特征均值\n",
    "stds = None # 数据X的个特征标准差\n",
    "### 代码结束\n",
    "print('样本个数为：'+str(n) + '\\n特征个数为：'+str(d))\n",
    "print('样本各特征均值为：\\n')\n",
    "print(means)\n",
    "print('样本各特征方差为：\\n')\n",
    "print(stds**2)"
   ]
  },
  {
   "cell_type": "markdown",
   "metadata": {},
   "source": [
    "# 根据方差特征选择"
   ]
  },
  {
   "cell_type": "code",
   "execution_count": null,
   "metadata": {},
   "outputs": [],
   "source": [
    "from sklearn.feature_selection import VarianceThreshold\n",
    "\n",
    "### 代码开始\n",
    "sel = VarianceThreshold(threshold=None) # 选择0.6作为方差阈值\n",
    "X_new = None # 经过选择后的特征\n",
    "### 代码结束\n",
    "\n",
    "stds_new = np.std(X_new, axis=0)\n",
    "print('选择特征后样本各特征方差为：\\n')\n",
    "print(stds_new**2)"
   ]
  },
  {
   "cell_type": "code",
   "execution_count": null,
   "metadata": {},
   "outputs": [],
   "source": []
  }
 ],
 "metadata": {
  "kernelspec": {
   "display_name": "Python 3",
   "language": "python",
   "name": "python3"
  },
  "language_info": {
   "codemirror_mode": {
    "name": "ipython",
    "version": 3
   },
   "file_extension": ".py",
   "mimetype": "text/x-python",
   "name": "python",
   "nbconvert_exporter": "python",
   "pygments_lexer": "ipython3",
   "version": "3.7.1"
  }
 },
 "nbformat": 4,
 "nbformat_minor": 2
}
