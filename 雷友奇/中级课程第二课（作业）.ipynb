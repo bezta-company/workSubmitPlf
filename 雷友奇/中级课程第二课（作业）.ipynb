{
 "cells": [
  {
   "cell_type": "code",
   "execution_count": 7,
   "metadata": {},
   "outputs": [],
   "source": [
    "import numpy as np\n",
    "from sklearn.datasets import load_iris\n",
    "\n",
    "# 载入iris数据集\n",
    "data = load_iris()"
   ]
  },
  {
   "cell_type": "markdown",
   "metadata": {},
   "source": [
    "# 数据分布"
   ]
  },
  {
   "cell_type": "code",
   "execution_count": 10,
   "metadata": {
    "scrolled": true
   },
   "outputs": [
    {
     "name": "stdout",
     "output_type": "stream",
     "text": [
      "样本个数为：150\n",
      "特征个数为：4\n",
      "样本各特征均值为：\n",
      "\n",
      "[[5.84333333 3.05733333 3.758      1.19933333]]\n",
      "样本各特征方差为：\n",
      "\n",
      "[[0.68112222 0.18871289 3.09550267 0.57713289]]\n"
     ]
    }
   ],
   "source": [
    "X = data['data']\n",
    "y = data['target']\n",
    "\n",
    "### 代码开始\n",
    "n,d = X.shape # 样本个数 特征个数\n",
    "means = np.mean(X,axis=0,keepdims = True) # 数据X的各特征均值\n",
    "stds = np.std(X,axis=0,keepdims = True) # 数据X的个特征标准差\n",
    "### 代码结束\n",
    "print('样本个数为：'+str(n) + '\\n特征个数为：'+str(d))\n",
    "print('样本各特征均值为：\\n')\n",
    "print(means)\n",
    "print('样本各特征方差为：\\n')\n",
    "print(stds**2)"
   ]
  },
  {
   "cell_type": "markdown",
   "metadata": {},
   "source": [
    "# 根据方差特征选择"
   ]
  },
  {
   "cell_type": "code",
   "execution_count": 11,
   "metadata": {},
   "outputs": [
    {
     "name": "stdout",
     "output_type": "stream",
     "text": [
      "选择特征后样本各特征方差为：\n",
      "\n",
      "[0.68112222 3.09550267]\n"
     ]
    }
   ],
   "source": [
    "from sklearn.feature_selection import VarianceThreshold\n",
    "\n",
    "### 代码开始\n",
    "sel = VarianceThreshold(threshold=0.6) # 选择0.6作为方差阈值\n",
    "X_new = sel.fit_transform(X) # 经过选择后的特征\n",
    "### 代码结束\n",
    "\n",
    "stds_new = np.std(X_new, axis=0)\n",
    "print('选择特征后样本各特征方差为：\\n')\n",
    "print(stds_new**2)"
   ]
  },
  {
   "cell_type": "code",
   "execution_count": 12,
   "metadata": {},
   "outputs": [
    {
     "name": "stdout",
     "output_type": "stream",
     "text": [
      "[[5.1 3.5 1.4 0.2]\n",
      " [4.9 3.  1.4 0.2]\n",
      " [4.7 3.2 1.3 0.2]]\n"
     ]
    }
   ],
   "source": [
    "print(X[0:3])"
   ]
  },
  {
   "cell_type": "code",
   "execution_count": 13,
   "metadata": {},
   "outputs": [
    {
     "name": "stdout",
     "output_type": "stream",
     "text": [
      "[[5.1 1.4]\n",
      " [4.9 1.4]\n",
      " [4.7 1.3]]\n"
     ]
    }
   ],
   "source": [
    "print(X_new[0:3])"
   ]
  }
 ],
 "metadata": {
  "kernelspec": {
   "display_name": "Python 3",
   "language": "python",
   "name": "python3"
  },
  "language_info": {
   "codemirror_mode": {
    "name": "ipython",
    "version": 3
   },
   "file_extension": ".py",
   "mimetype": "text/x-python",
   "name": "python",
   "nbconvert_exporter": "python",
   "pygments_lexer": "ipython3",
   "version": "3.7.3"
  }
 },
 "nbformat": 4,
 "nbformat_minor": 2
}
